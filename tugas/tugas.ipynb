{
 "cells": [
  {
   "cell_type": "markdown",
   "id": "bc0d6d44",
   "metadata": {},
   "source": [
    "### Dataset saya berubah menjadi Student Performance\n",
    "### sebelumnya adalah Data Analyst Job Roles in Canada\n",
    "#### Sumber: https://www.kaggle.com/datasets/lainguyn123/student-performance-factors/data\n"
   ]
  },
  {
   "cell_type": "markdown",
   "id": "eff8bff3",
   "metadata": {},
   "source": [
    "#### import library"
   ]
  },
  {
   "cell_type": "code",
   "execution_count": 2,
   "id": "38a75bd2",
   "metadata": {},
   "outputs": [],
   "source": [
    "import pandas as pd\n",
    "import matplotlib.pyplot as plt\n",
    "import numpy as np\n",
    "import seaborn as sns\n",
    "from collections import Counter \n",
    "from pandas.api.types import is_numeric_dtype"
   ]
  },
  {
   "cell_type": "code",
   "execution_count": 3,
   "id": "0406649c",
   "metadata": {},
   "outputs": [
    {
     "name": "stdout",
     "output_type": "stream",
     "text": [
      "row = 6607\n",
      "column = 20\n",
      "<class 'pandas.core.frame.DataFrame'>\n",
      "RangeIndex: 6607 entries, 0 to 6606\n",
      "Data columns (total 20 columns):\n",
      " #   Column                      Non-Null Count  Dtype \n",
      "---  ------                      --------------  ----- \n",
      " 0   Hours_Studied               6607 non-null   int64 \n",
      " 1   Attendance                  6607 non-null   int64 \n",
      " 2   Parental_Involvement        6607 non-null   object\n",
      " 3   Access_to_Resources         6607 non-null   object\n",
      " 4   Extracurricular_Activities  6607 non-null   object\n",
      " 5   Sleep_Hours                 6607 non-null   int64 \n",
      " 6   Previous_Scores             6607 non-null   int64 \n",
      " 7   Motivation_Level            6607 non-null   object\n",
      " 8   Internet_Access             6607 non-null   object\n",
      " 9   Tutoring_Sessions           6607 non-null   int64 \n",
      " 10  Family_Income               6607 non-null   object\n",
      " 11  Teacher_Quality             6529 non-null   object\n",
      " 12  School_Type                 6607 non-null   object\n",
      " 13  Peer_Influence              6607 non-null   object\n",
      " 14  Physical_Activity           6607 non-null   int64 \n",
      " 15  Learning_Disabilities       6607 non-null   object\n",
      " 16  Parental_Education_Level    6517 non-null   object\n",
      " 17  Distance_from_Home          6540 non-null   object\n",
      " 18  Gender                      6607 non-null   object\n",
      " 19  Exam_Score                  6607 non-null   int64 \n",
      "dtypes: int64(7), object(13)\n",
      "memory usage: 1.0+ MB\n",
      "None\n"
     ]
    }
   ],
   "source": [
    "# mendapatkan row dan col dari data\n",
    "\n",
    "df = pd.read_csv('StudentPerformanceFactors.csv')\n",
    "row, col = df.shape\n",
    "print(f'row = {row}')\n",
    "print(f'column = {col}')\n",
    "print(df.info())"
   ]
  },
  {
   "cell_type": "markdown",
   "id": "3301e066",
   "metadata": {},
   "source": [
    "### Terdapat 20 kolum dan 6670 row\n",
    "#### apa isinya dari masing-masing kolom? "
   ]
  },
  {
   "cell_type": "code",
   "execution_count": 4,
   "id": "dbd850c3",
   "metadata": {},
   "outputs": [
    {
     "data": {
      "text/html": [
       "<div>\n",
       "<style scoped>\n",
       "    .dataframe tbody tr th:only-of-type {\n",
       "        vertical-align: middle;\n",
       "    }\n",
       "\n",
       "    .dataframe tbody tr th {\n",
       "        vertical-align: top;\n",
       "    }\n",
       "\n",
       "    .dataframe thead th {\n",
       "        text-align: right;\n",
       "    }\n",
       "</style>\n",
       "<table border=\"1\" class=\"dataframe\">\n",
       "  <thead>\n",
       "    <tr style=\"text-align: right;\">\n",
       "      <th></th>\n",
       "      <th>Hours_Studied</th>\n",
       "      <th>Attendance</th>\n",
       "      <th>Parental_Involvement</th>\n",
       "      <th>Access_to_Resources</th>\n",
       "      <th>Extracurricular_Activities</th>\n",
       "      <th>Sleep_Hours</th>\n",
       "      <th>Previous_Scores</th>\n",
       "      <th>Motivation_Level</th>\n",
       "      <th>Internet_Access</th>\n",
       "      <th>Tutoring_Sessions</th>\n",
       "      <th>Family_Income</th>\n",
       "      <th>Teacher_Quality</th>\n",
       "      <th>School_Type</th>\n",
       "      <th>Peer_Influence</th>\n",
       "      <th>Physical_Activity</th>\n",
       "      <th>Learning_Disabilities</th>\n",
       "      <th>Parental_Education_Level</th>\n",
       "      <th>Distance_from_Home</th>\n",
       "      <th>Gender</th>\n",
       "      <th>Exam_Score</th>\n",
       "    </tr>\n",
       "  </thead>\n",
       "  <tbody>\n",
       "    <tr>\n",
       "      <th>0</th>\n",
       "      <td>23</td>\n",
       "      <td>84</td>\n",
       "      <td>Low</td>\n",
       "      <td>High</td>\n",
       "      <td>No</td>\n",
       "      <td>7</td>\n",
       "      <td>73</td>\n",
       "      <td>Low</td>\n",
       "      <td>Yes</td>\n",
       "      <td>0</td>\n",
       "      <td>Low</td>\n",
       "      <td>Medium</td>\n",
       "      <td>Public</td>\n",
       "      <td>Positive</td>\n",
       "      <td>3</td>\n",
       "      <td>No</td>\n",
       "      <td>High School</td>\n",
       "      <td>Near</td>\n",
       "      <td>Male</td>\n",
       "      <td>67</td>\n",
       "    </tr>\n",
       "    <tr>\n",
       "      <th>1</th>\n",
       "      <td>19</td>\n",
       "      <td>64</td>\n",
       "      <td>Low</td>\n",
       "      <td>Medium</td>\n",
       "      <td>No</td>\n",
       "      <td>8</td>\n",
       "      <td>59</td>\n",
       "      <td>Low</td>\n",
       "      <td>Yes</td>\n",
       "      <td>2</td>\n",
       "      <td>Medium</td>\n",
       "      <td>Medium</td>\n",
       "      <td>Public</td>\n",
       "      <td>Negative</td>\n",
       "      <td>4</td>\n",
       "      <td>No</td>\n",
       "      <td>College</td>\n",
       "      <td>Moderate</td>\n",
       "      <td>Female</td>\n",
       "      <td>61</td>\n",
       "    </tr>\n",
       "    <tr>\n",
       "      <th>2</th>\n",
       "      <td>24</td>\n",
       "      <td>98</td>\n",
       "      <td>Medium</td>\n",
       "      <td>Medium</td>\n",
       "      <td>Yes</td>\n",
       "      <td>7</td>\n",
       "      <td>91</td>\n",
       "      <td>Medium</td>\n",
       "      <td>Yes</td>\n",
       "      <td>2</td>\n",
       "      <td>Medium</td>\n",
       "      <td>Medium</td>\n",
       "      <td>Public</td>\n",
       "      <td>Neutral</td>\n",
       "      <td>4</td>\n",
       "      <td>No</td>\n",
       "      <td>Postgraduate</td>\n",
       "      <td>Near</td>\n",
       "      <td>Male</td>\n",
       "      <td>74</td>\n",
       "    </tr>\n",
       "    <tr>\n",
       "      <th>3</th>\n",
       "      <td>29</td>\n",
       "      <td>89</td>\n",
       "      <td>Low</td>\n",
       "      <td>Medium</td>\n",
       "      <td>Yes</td>\n",
       "      <td>8</td>\n",
       "      <td>98</td>\n",
       "      <td>Medium</td>\n",
       "      <td>Yes</td>\n",
       "      <td>1</td>\n",
       "      <td>Medium</td>\n",
       "      <td>Medium</td>\n",
       "      <td>Public</td>\n",
       "      <td>Negative</td>\n",
       "      <td>4</td>\n",
       "      <td>No</td>\n",
       "      <td>High School</td>\n",
       "      <td>Moderate</td>\n",
       "      <td>Male</td>\n",
       "      <td>71</td>\n",
       "    </tr>\n",
       "    <tr>\n",
       "      <th>4</th>\n",
       "      <td>19</td>\n",
       "      <td>92</td>\n",
       "      <td>Medium</td>\n",
       "      <td>Medium</td>\n",
       "      <td>Yes</td>\n",
       "      <td>6</td>\n",
       "      <td>65</td>\n",
       "      <td>Medium</td>\n",
       "      <td>Yes</td>\n",
       "      <td>3</td>\n",
       "      <td>Medium</td>\n",
       "      <td>High</td>\n",
       "      <td>Public</td>\n",
       "      <td>Neutral</td>\n",
       "      <td>4</td>\n",
       "      <td>No</td>\n",
       "      <td>College</td>\n",
       "      <td>Near</td>\n",
       "      <td>Female</td>\n",
       "      <td>70</td>\n",
       "    </tr>\n",
       "  </tbody>\n",
       "</table>\n",
       "</div>"
      ],
      "text/plain": [
       "   Hours_Studied  Attendance Parental_Involvement Access_to_Resources  \\\n",
       "0             23          84                  Low                High   \n",
       "1             19          64                  Low              Medium   \n",
       "2             24          98               Medium              Medium   \n",
       "3             29          89                  Low              Medium   \n",
       "4             19          92               Medium              Medium   \n",
       "\n",
       "  Extracurricular_Activities  Sleep_Hours  Previous_Scores Motivation_Level  \\\n",
       "0                         No            7               73              Low   \n",
       "1                         No            8               59              Low   \n",
       "2                        Yes            7               91           Medium   \n",
       "3                        Yes            8               98           Medium   \n",
       "4                        Yes            6               65           Medium   \n",
       "\n",
       "  Internet_Access  Tutoring_Sessions Family_Income Teacher_Quality  \\\n",
       "0             Yes                  0           Low          Medium   \n",
       "1             Yes                  2        Medium          Medium   \n",
       "2             Yes                  2        Medium          Medium   \n",
       "3             Yes                  1        Medium          Medium   \n",
       "4             Yes                  3        Medium            High   \n",
       "\n",
       "  School_Type Peer_Influence  Physical_Activity Learning_Disabilities  \\\n",
       "0      Public       Positive                  3                    No   \n",
       "1      Public       Negative                  4                    No   \n",
       "2      Public        Neutral                  4                    No   \n",
       "3      Public       Negative                  4                    No   \n",
       "4      Public        Neutral                  4                    No   \n",
       "\n",
       "  Parental_Education_Level Distance_from_Home  Gender  Exam_Score  \n",
       "0              High School               Near    Male          67  \n",
       "1                  College           Moderate  Female          61  \n",
       "2             Postgraduate               Near    Male          74  \n",
       "3              High School           Moderate    Male          71  \n",
       "4                  College               Near  Female          70  "
      ]
     },
     "execution_count": 4,
     "metadata": {},
     "output_type": "execute_result"
    }
   ],
   "source": [
    "df.head(5) # ambil 5 teratas"
   ]
  },
  {
   "cell_type": "code",
   "execution_count": 5,
   "id": "09761b38",
   "metadata": {},
   "outputs": [
    {
     "data": {
      "text/html": [
       "<div>\n",
       "<style scoped>\n",
       "    .dataframe tbody tr th:only-of-type {\n",
       "        vertical-align: middle;\n",
       "    }\n",
       "\n",
       "    .dataframe tbody tr th {\n",
       "        vertical-align: top;\n",
       "    }\n",
       "\n",
       "    .dataframe thead th {\n",
       "        text-align: right;\n",
       "    }\n",
       "</style>\n",
       "<table border=\"1\" class=\"dataframe\">\n",
       "  <thead>\n",
       "    <tr style=\"text-align: right;\">\n",
       "      <th></th>\n",
       "      <th>Hours_Studied</th>\n",
       "      <th>Attendance</th>\n",
       "      <th>Parental_Involvement</th>\n",
       "      <th>Access_to_Resources</th>\n",
       "      <th>Extracurricular_Activities</th>\n",
       "      <th>Sleep_Hours</th>\n",
       "      <th>Previous_Scores</th>\n",
       "      <th>Motivation_Level</th>\n",
       "      <th>Internet_Access</th>\n",
       "      <th>Tutoring_Sessions</th>\n",
       "      <th>Family_Income</th>\n",
       "      <th>Teacher_Quality</th>\n",
       "      <th>School_Type</th>\n",
       "      <th>Peer_Influence</th>\n",
       "      <th>Physical_Activity</th>\n",
       "      <th>Learning_Disabilities</th>\n",
       "      <th>Parental_Education_Level</th>\n",
       "      <th>Distance_from_Home</th>\n",
       "      <th>Gender</th>\n",
       "      <th>Exam_Score</th>\n",
       "    </tr>\n",
       "  </thead>\n",
       "  <tbody>\n",
       "    <tr>\n",
       "      <th>6602</th>\n",
       "      <td>25</td>\n",
       "      <td>69</td>\n",
       "      <td>High</td>\n",
       "      <td>Medium</td>\n",
       "      <td>No</td>\n",
       "      <td>7</td>\n",
       "      <td>76</td>\n",
       "      <td>Medium</td>\n",
       "      <td>Yes</td>\n",
       "      <td>1</td>\n",
       "      <td>High</td>\n",
       "      <td>Medium</td>\n",
       "      <td>Public</td>\n",
       "      <td>Positive</td>\n",
       "      <td>2</td>\n",
       "      <td>No</td>\n",
       "      <td>High School</td>\n",
       "      <td>Near</td>\n",
       "      <td>Female</td>\n",
       "      <td>68</td>\n",
       "    </tr>\n",
       "    <tr>\n",
       "      <th>6603</th>\n",
       "      <td>23</td>\n",
       "      <td>76</td>\n",
       "      <td>High</td>\n",
       "      <td>Medium</td>\n",
       "      <td>No</td>\n",
       "      <td>8</td>\n",
       "      <td>81</td>\n",
       "      <td>Medium</td>\n",
       "      <td>Yes</td>\n",
       "      <td>3</td>\n",
       "      <td>Low</td>\n",
       "      <td>High</td>\n",
       "      <td>Public</td>\n",
       "      <td>Positive</td>\n",
       "      <td>2</td>\n",
       "      <td>No</td>\n",
       "      <td>High School</td>\n",
       "      <td>Near</td>\n",
       "      <td>Female</td>\n",
       "      <td>69</td>\n",
       "    </tr>\n",
       "    <tr>\n",
       "      <th>6604</th>\n",
       "      <td>20</td>\n",
       "      <td>90</td>\n",
       "      <td>Medium</td>\n",
       "      <td>Low</td>\n",
       "      <td>Yes</td>\n",
       "      <td>6</td>\n",
       "      <td>65</td>\n",
       "      <td>Low</td>\n",
       "      <td>Yes</td>\n",
       "      <td>3</td>\n",
       "      <td>Low</td>\n",
       "      <td>Medium</td>\n",
       "      <td>Public</td>\n",
       "      <td>Negative</td>\n",
       "      <td>2</td>\n",
       "      <td>No</td>\n",
       "      <td>Postgraduate</td>\n",
       "      <td>Near</td>\n",
       "      <td>Female</td>\n",
       "      <td>68</td>\n",
       "    </tr>\n",
       "    <tr>\n",
       "      <th>6605</th>\n",
       "      <td>10</td>\n",
       "      <td>86</td>\n",
       "      <td>High</td>\n",
       "      <td>High</td>\n",
       "      <td>Yes</td>\n",
       "      <td>6</td>\n",
       "      <td>91</td>\n",
       "      <td>High</td>\n",
       "      <td>Yes</td>\n",
       "      <td>2</td>\n",
       "      <td>Low</td>\n",
       "      <td>Medium</td>\n",
       "      <td>Private</td>\n",
       "      <td>Positive</td>\n",
       "      <td>3</td>\n",
       "      <td>No</td>\n",
       "      <td>High School</td>\n",
       "      <td>Far</td>\n",
       "      <td>Female</td>\n",
       "      <td>68</td>\n",
       "    </tr>\n",
       "    <tr>\n",
       "      <th>6606</th>\n",
       "      <td>15</td>\n",
       "      <td>67</td>\n",
       "      <td>Medium</td>\n",
       "      <td>Low</td>\n",
       "      <td>Yes</td>\n",
       "      <td>9</td>\n",
       "      <td>94</td>\n",
       "      <td>Medium</td>\n",
       "      <td>Yes</td>\n",
       "      <td>0</td>\n",
       "      <td>Medium</td>\n",
       "      <td>Medium</td>\n",
       "      <td>Public</td>\n",
       "      <td>Positive</td>\n",
       "      <td>4</td>\n",
       "      <td>No</td>\n",
       "      <td>Postgraduate</td>\n",
       "      <td>Near</td>\n",
       "      <td>Male</td>\n",
       "      <td>64</td>\n",
       "    </tr>\n",
       "  </tbody>\n",
       "</table>\n",
       "</div>"
      ],
      "text/plain": [
       "      Hours_Studied  Attendance Parental_Involvement Access_to_Resources  \\\n",
       "6602             25          69                 High              Medium   \n",
       "6603             23          76                 High              Medium   \n",
       "6604             20          90               Medium                 Low   \n",
       "6605             10          86                 High                High   \n",
       "6606             15          67               Medium                 Low   \n",
       "\n",
       "     Extracurricular_Activities  Sleep_Hours  Previous_Scores  \\\n",
       "6602                         No            7               76   \n",
       "6603                         No            8               81   \n",
       "6604                        Yes            6               65   \n",
       "6605                        Yes            6               91   \n",
       "6606                        Yes            9               94   \n",
       "\n",
       "     Motivation_Level Internet_Access  Tutoring_Sessions Family_Income  \\\n",
       "6602           Medium             Yes                  1          High   \n",
       "6603           Medium             Yes                  3           Low   \n",
       "6604              Low             Yes                  3           Low   \n",
       "6605             High             Yes                  2           Low   \n",
       "6606           Medium             Yes                  0        Medium   \n",
       "\n",
       "     Teacher_Quality School_Type Peer_Influence  Physical_Activity  \\\n",
       "6602          Medium      Public       Positive                  2   \n",
       "6603            High      Public       Positive                  2   \n",
       "6604          Medium      Public       Negative                  2   \n",
       "6605          Medium     Private       Positive                  3   \n",
       "6606          Medium      Public       Positive                  4   \n",
       "\n",
       "     Learning_Disabilities Parental_Education_Level Distance_from_Home  \\\n",
       "6602                    No              High School               Near   \n",
       "6603                    No              High School               Near   \n",
       "6604                    No             Postgraduate               Near   \n",
       "6605                    No              High School                Far   \n",
       "6606                    No             Postgraduate               Near   \n",
       "\n",
       "      Gender  Exam_Score  \n",
       "6602  Female          68  \n",
       "6603  Female          69  \n",
       "6604  Female          68  \n",
       "6605  Female          68  \n",
       "6606    Male          64  "
      ]
     },
     "execution_count": 5,
     "metadata": {},
     "output_type": "execute_result"
    }
   ],
   "source": [
    "df.tail(5) # saya ambil 5 terbawah"
   ]
  },
  {
   "cell_type": "code",
   "execution_count": 6,
   "id": "d3b3ee62",
   "metadata": {},
   "outputs": [
    {
     "data": {
      "text/plain": [
       "Hours_Studied                  0\n",
       "Attendance                     0\n",
       "Parental_Involvement           0\n",
       "Access_to_Resources            0\n",
       "Extracurricular_Activities     0\n",
       "Sleep_Hours                    0\n",
       "Previous_Scores                0\n",
       "Motivation_Level               0\n",
       "Internet_Access                0\n",
       "Tutoring_Sessions              0\n",
       "Family_Income                  0\n",
       "Teacher_Quality               78\n",
       "School_Type                    0\n",
       "Peer_Influence                 0\n",
       "Physical_Activity              0\n",
       "Learning_Disabilities          0\n",
       "Parental_Education_Level      90\n",
       "Distance_from_Home            67\n",
       "Gender                         0\n",
       "Exam_Score                     0\n",
       "dtype: int64"
      ]
     },
     "execution_count": 6,
     "metadata": {},
     "output_type": "execute_result"
    }
   ],
   "source": [
    "df.isna().sum() # lihat apakah ada yang kosong dari totalnya"
   ]
  },
  {
   "cell_type": "code",
   "execution_count": 7,
   "id": "ca628b64",
   "metadata": {},
   "outputs": [],
   "source": [
    "df = df.dropna() # drop row jika ada salah satu value dari row tersebut yang kosong"
   ]
  },
  {
   "cell_type": "code",
   "execution_count": 8,
   "id": "2230bec2",
   "metadata": {},
   "outputs": [
    {
     "data": {
      "text/plain": [
       "Hours_Studied                 0\n",
       "Attendance                    0\n",
       "Parental_Involvement          0\n",
       "Access_to_Resources           0\n",
       "Extracurricular_Activities    0\n",
       "Sleep_Hours                   0\n",
       "Previous_Scores               0\n",
       "Motivation_Level              0\n",
       "Internet_Access               0\n",
       "Tutoring_Sessions             0\n",
       "Family_Income                 0\n",
       "Teacher_Quality               0\n",
       "School_Type                   0\n",
       "Peer_Influence                0\n",
       "Physical_Activity             0\n",
       "Learning_Disabilities         0\n",
       "Parental_Education_Level      0\n",
       "Distance_from_Home            0\n",
       "Gender                        0\n",
       "Exam_Score                    0\n",
       "dtype: int64"
      ]
     },
     "execution_count": 8,
     "metadata": {},
     "output_type": "execute_result"
    }
   ],
   "source": [
    "df.isna().sum() # cek lagi"
   ]
  },
  {
   "cell_type": "markdown",
   "id": "0164021d",
   "metadata": {},
   "source": [
    "### Mencari tahu value dari masing-masing kolom; apakah angka atau string "
   ]
  },
  {
   "cell_type": "code",
   "execution_count": 9,
   "id": "21724a0f",
   "metadata": {},
   "outputs": [
    {
     "name": "stdout",
     "output_type": "stream",
     "text": [
      "Hours_Studied = tipe data kolum ini int64 \n",
      "Attendance = tipe data kolum ini int64 \n",
      "Parental_Involvement = ['High', 'Low', 'Medium'] \n",
      "Access_to_Resources = ['High', 'Low', 'Medium'] \n",
      "Extracurricular_Activities = ['No', 'Yes'] \n",
      "Sleep_Hours = tipe data kolum ini int64 \n",
      "Previous_Scores = tipe data kolum ini int64 \n",
      "Motivation_Level = ['High', 'Low', 'Medium'] \n",
      "Internet_Access = ['No', 'Yes'] \n",
      "Tutoring_Sessions = tipe data kolum ini int64 \n",
      "Family_Income = ['High', 'Low', 'Medium'] \n",
      "Teacher_Quality = ['High', 'Low', 'Medium'] \n",
      "School_Type = ['Private', 'Public'] \n",
      "Peer_Influence = ['Negative', 'Neutral', 'Positive'] \n",
      "Physical_Activity = tipe data kolum ini int64 \n",
      "Learning_Disabilities = ['No', 'Yes'] \n",
      "Parental_Education_Level = ['College', 'High School', 'Postgraduate'] \n",
      "Distance_from_Home = ['Far', 'Moderate', 'Near'] \n",
      "Gender = ['Female', 'Male'] \n",
      "Exam_Score = tipe data kolum ini int64 \n",
      "\n",
      "\n",
      "yang berupa angka ['Hours_Studied', 'Attendance', 'Sleep_Hours', 'Previous_Scores', 'Tutoring_Sessions', 'Physical_Activity', 'Exam_Score']\n",
      "yang tidak berupa angka ['Parental_Involvement', 'Access_to_Resources', 'Extracurricular_Activities', 'Motivation_Level', 'Internet_Access', 'Family_Income', 'Teacher_Quality', 'School_Type', 'Peer_Influence', 'Learning_Disabilities', 'Parental_Education_Level', 'Distance_from_Home', 'Gender']\n"
     ]
    }
   ],
   "source": [
    "lst = df.columns\n",
    "\n",
    "# pisahkan yang string dan angka\n",
    "col_angka = [] \n",
    "col_selain_angka = []\n",
    "\n",
    "for col in lst:\n",
    "    print(col, end=' = ')\n",
    "    if (is_numeric_dtype(df[col])):\n",
    "        print(f\"tipe data kolum ini {df[col].dtype}\", end=' ')\n",
    "        col_angka.append(col)\n",
    "    else:\n",
    "        print(sorted(df[col].unique()), end=' ') # dapatkan semua value unique dari column\n",
    "        col_selain_angka.append(col)\n",
    "    print()\n",
    "\n",
    "print()\n",
    "print()\n",
    "print(\"yang berupa angka\", col_angka)\n",
    "print(\"yang tidak berupa angka\", col_selain_angka)"
   ]
  },
  {
   "cell_type": "markdown",
   "id": "c0118b7d",
   "metadata": {},
   "source": [
    "### Lihat persebaran nilai ujian dari kolom Exam_Score"
   ]
  },
  {
   "cell_type": "code",
   "execution_count": 10,
   "id": "94619011",
   "metadata": {},
   "outputs": [
    {
     "data": {
      "image/png": "[encoded data removed]",
      "text/plain": [
       "<Figure size 1500x600 with 1 Axes>"
      ]
     },
     "metadata": {},
     "output_type": "display_data"
    }
   ],
   "source": [
    "plt.figure(figsize=(15, 6)) # perbesar canvas supaya axis x tidak saling tindih\n",
    "sns.countplot(x=df['Exam_Score'], palette='Blues', legend=0, hue=df['Exam_Score']) # kasih warna\n",
    "plt.title(\"Distribution of Exam Scores\")\n",
    "plt.xlabel(\"Exam Score\")\n",
    "plt.ylabel(\"Count\")\n",
    "\n",
    "plt.show() # tampilkan"
   ]
  },
  {
   "cell_type": "markdown",
   "id": "ea81e2a3",
   "metadata": {},
   "source": [
    "### Berapa rata-rata, median, dan modus nilai ujian dari grafik diatas?"
   ]
  },
  {
   "cell_type": "code",
   "execution_count": 11,
   "id": "b00f5f11",
   "metadata": {},
   "outputs": [
    {
     "name": "stdout",
     "output_type": "stream",
     "text": [
      "67.25211665098777\n",
      "67.0\n",
      "68\n"
     ]
    }
   ],
   "source": [
    "print(df['Exam_Score'].mean()) # rata-rata\n",
    "print(df['Exam_Score'].median()) # median\n",
    "print(df['Exam_Score'].mode()[0]) # modus"
   ]
  },
  {
   "cell_type": "markdown",
   "id": "127b5488",
   "metadata": {},
   "source": [
    "### Rata-rata 67\n",
    "### nilai tengah = 67 juga\n",
    "### nilai paling banyak didapatkan = 68"
   ]
  },
  {
   "cell_type": "markdown",
   "id": "e23e63f0",
   "metadata": {},
   "source": [
    "### ---"
   ]
  },
  {
   "cell_type": "markdown",
   "id": "8ace24ff",
   "metadata": {},
   "source": [
    "### Menurut saya, yang paling berpengaruh adalah motivasi untuk belajar.\n",
    "#### Berikut adalah visualisasi data pada motivasi belajar dengan rata-rata nilai yang didapat"
   ]
  },
  {
   "cell_type": "code",
   "execution_count": 12,
   "id": "166734ca",
   "metadata": {},
   "outputs": [
    {
     "data": {
      "image/png": "[encoded data removed]",
      "text/plain": [
       "<Figure size 600x400 with 1 Axes>"
      ]
     },
     "metadata": {},
     "output_type": "display_data"
    }
   ],
   "source": [
    "\n",
    "\n",
    "high_motiv_mean = (df[df['Motivation_Level'] == 'High']['Exam_Score'].mean()) # ambil rata rata dimana motivasi belajar = High\n",
    "medium_motiv_mean = (df[df['Motivation_Level'] == 'Medium']['Exam_Score'].mean()) # ambil rata rata dimana motivasi belajar = Medium\n",
    "low_motiv_mean = (df[df['Motivation_Level'] == 'Low']['Exam_Score'].mean()) # ambil rata rata dimana motivasi belajar = Low\n",
    "\n",
    "categories = [high_motiv_mean, medium_motiv_mean, low_motiv_mean]\n",
    "label = [\"high motiv\", \"medium motiv\", \"low motiv\"]\n",
    "\n",
    "plt.figure(figsize=(6, 4))\n",
    "plt.bar(label, categories, color=[\"green\", \"orange\", \"red\"])\n",
    "\n",
    "plt.xlabel(\"Indikator Motivasi\")\n",
    "plt.ylabel(\"Rata-Rata Nilai\")\n",
    "plt.show()\n"
   ]
  },
  {
   "cell_type": "markdown",
   "id": "44d15738",
   "metadata": {},
   "source": [
    "### Data menunjukkan sedikit perbedaan pada rata-rata nilai apapun motivasinya \n",
    "#### Dengan kata lain; terdapat faktor lain yang mempengaruhi"
   ]
  },
  {
   "cell_type": "markdown",
   "id": "ff7dcc8e",
   "metadata": {},
   "source": [
    "#### Apakah ada hubunganya dengan Teacher's Quality?"
   ]
  },
  {
   "cell_type": "code",
   "execution_count": 14,
   "id": "0178ae8f",
   "metadata": {},
   "outputs": [
    {
     "data": {
      "image/png": "[encoded data removed]",
      "text/plain": [
       "<Figure size 600x400 with 1 Axes>"
      ]
     },
     "metadata": {},
     "output_type": "display_data"
    }
   ],
   "source": [
    "\n",
    "high_teacher_mean= (df[df['Teacher_Quality'] == 'High']['Exam_Score'].mean()) \n",
    "medium_teacher_mean = (df[df['Teacher_Quality'] == 'Medium']['Exam_Score'].mean())\n",
    "low_teacher_mean = (df[df['Teacher_Quality'] == 'Low']['Exam_Score'].mean()) \n",
    "\n",
    "categories = [high_teacher_mean, medium_teacher_mean, low_teacher_mean]\n",
    "label = [\"high teacher\", \"medium teacher\", \"low teacher\"]\n",
    "\n",
    "plt.figure(figsize=(6, 4))\n",
    "plt.bar(label, categories, color=[\"green\", \"orange\", \"red\"])\n",
    "\n",
    "plt.xlabel(\"Indikator teacher quality\")\n",
    "plt.ylabel(\"Rata-Rata Nilai\")\n",
    "plt.show()"
   ]
  },
  {
   "cell_type": "markdown",
   "id": "337dc0d2",
   "metadata": {},
   "source": [
    "### Tidak ada perbedaan yang jauh\n",
    "#### Berikut jika indikator berupa Access_to_Resources"
   ]
  },
  {
   "cell_type": "code",
   "execution_count": 15,
   "id": "f8cdb5bc",
   "metadata": {},
   "outputs": [
    {
     "data": {
      "image/png": "[encoded data removed]",
      "text/plain": [
       "<Figure size 600x400 with 1 Axes>"
      ]
     },
     "metadata": {},
     "output_type": "display_data"
    }
   ],
   "source": [
    "high_resources_mean= (df[df['Access_to_Resources'] == 'High']['Exam_Score'].mean()) \n",
    "medium_resources_mean = (df[df['Access_to_Resources'] == 'Medium']['Exam_Score'].mean())\n",
    "low_resources_mean = (df[df['Access_to_Resources'] == 'Low']['Exam_Score'].mean()) \n",
    "\n",
    "categories = [high_resources_mean, medium_resources_mean, low_resources_mean]\n",
    "label = [\"high resources\", \"medium resources\", \"low resources\"]\n",
    "\n",
    "plt.figure(figsize=(6, 4))\n",
    "plt.bar(label, categories, color=[\"green\", \"orange\", \"red\"])\n",
    "\n",
    "plt.xlabel(\"Indikator resources quality\")\n",
    "plt.ylabel(\"Rata-Rata Nilai\")\n",
    "plt.show()"
   ]
  },
  {
   "cell_type": "markdown",
   "id": "ac211262",
   "metadata": {},
   "source": [
    "### Berikut relasi antara Lama belajar dengan nilai ujian"
   ]
  },
  {
   "cell_type": "code",
   "execution_count": 26,
   "id": "95e48f5c",
   "metadata": {},
   "outputs": [
    {
     "data": {
      "image/png": "[encoded data removed]",
      "text/plain": [
       "<Figure size 800x600 with 1 Axes>"
      ]
     },
     "metadata": {},
     "output_type": "display_data"
    },
    {
     "name": "stdout",
     "output_type": "stream",
     "text": [
      "relasi antara hours studied dengan nilai ujian dengan interval [0 - 1] =  0.44510414026511724\n"
     ]
    }
   ],
   "source": [
    "\n",
    "plt.figure(figsize=(8,6))\n",
    "sns.scatterplot(x=\"Hours_Studied\", y=\"Exam_Score\", data=df, color=\"blue\", alpha=0.6)\n",
    "\n",
    "plt.title(\"Relationship between Hours Studied and Exam Score\")\n",
    "plt.xlabel(\"Hours Studied\")\n",
    "plt.ylabel(\"Exam Score\")\n",
    "plt.show()\n",
    "\n",
    "correlation = df[\"Hours_Studied\"].corr(df[\"Exam_Score\"])\n",
    "print(\"relasi antara hours studied dengan nilai ujian dengan interval [0 - 1] = \", correlation)\n",
    "\n"
   ]
  },
  {
   "cell_type": "code",
   "execution_count": null,
   "id": "0b0e4ab1",
   "metadata": {},
   "outputs": [],
   "source": []
  }
 ],
 "metadata": {
  "kernelspec": {
   "display_name": "Python 3",
   "language": "python",
   "name": "python3"
  },
  "language_info": {
   "codemirror_mode": {
    "name": "ipython",
    "version": 3
   },
   "file_extension": ".py",
   "mimetype": "text/x-python",
   "name": "python",
   "nbconvert_exporter": "python",
   "pygments_lexer": "ipython3",
   "version": "3.10.12"
  }
 },
 "nbformat": 4,
 "nbformat_minor": 5
}
